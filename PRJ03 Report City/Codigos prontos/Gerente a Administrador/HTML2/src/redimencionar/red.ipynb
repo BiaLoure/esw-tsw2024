{
 "cells": [
  {
   "cell_type": "code",
   "execution_count": 2,
   "metadata": {},
   "outputs": [
    {
     "name": "stderr",
     "output_type": "stream",
     "text": [
      "C:\\Users\\vinip\\AppData\\Local\\Temp\\ipykernel_29916\\3603478729.py:12: DeprecationWarning: ANTIALIAS is deprecated and will be removed in Pillow 10 (2023-07-01). Use LANCZOS or Resampling.LANCZOS instead.\n",
      "  resized_img = img.resize(new_size, Image.ANTIALIAS)\n"
     ]
    },
    {
     "name": "stdout",
     "output_type": "stream",
     "text": [
      "Image saved at: output_image2.png\n"
     ]
    }
   ],
   "source": [
    "from PIL import Image, ImageDraw\n",
    "\n",
    "def create_circular_logo(image_path, output_path, canvas_size=1152, circle_diameter=760):\n",
    "    # Load the image\n",
    "    img = Image.open(image_path)\n",
    "\n",
    "    # Calculate the scaling factor to fit the image inside the circle without being cut off\n",
    "    scale_factor = min(canvas_size / img.width, canvas_size / img.height)\n",
    "    new_size = (int(img.width * scale_factor), int(img.height * scale_factor))\n",
    "\n",
    "    # Resize the image to fit within the canvas\n",
    "    resized_img = img.resize(new_size, Image.ANTIALIAS)\n",
    "\n",
    "    # Create a transparent background with the canvas size (1152x1152)\n",
    "    transparent_img = Image.new(\"RGBA\", (canvas_size, canvas_size), (255, 255, 255, 0))\n",
    "\n",
    "    # Calculate the position to center the resized image on the canvas\n",
    "    position = ((canvas_size - new_size[0]) // 2, (canvas_size - new_size[1]) // 2)\n",
    "\n",
    "    # Paste the resized image onto the transparent background\n",
    "    transparent_img.paste(resized_img, position, resized_img.convert('RGBA'))\n",
    "\n",
    "    # Create a circular mask\n",
    "    mask_img = Image.new('L', (canvas_size, canvas_size), 0)\n",
    "    mask_draw = ImageDraw.Draw(mask_img)\n",
    "    mask_draw.ellipse([(canvas_size - circle_diameter) // 2, (canvas_size - circle_diameter) // 2, \n",
    "                       (canvas_size + circle_diameter) // 2, (canvas_size + circle_diameter) // 2], fill=255)\n",
    "\n",
    "    # Apply the mask to the image to create a circular effect\n",
    "    final_img = Image.new(\"RGBA\", (canvas_size, canvas_size), (255, 255, 255, 0))\n",
    "    final_img.paste(transparent_img, (0, 0), mask_img)\n",
    "\n",
    "    # Save the final image\n",
    "    final_img.save(output_path)\n",
    "    print(f\"Image saved at: {output_path}\")\n",
    "\n",
    "# Example usage\n",
    "create_circular_logo('ReportCity_verde2.png', 'output_image2.png')\n"
   ]
  },
  {
   "cell_type": "code",
   "execution_count": 3,
   "metadata": {},
   "outputs": [
    {
     "name": "stdout",
     "output_type": "stream",
     "text": [
      "Image saved at: output_circular_logo.png\n"
     ]
    }
   ],
   "source": [
    "from PIL import Image, ImageDraw\n",
    "\n",
    "def create_circular_logo(image_path, output_path, canvas_size=1152, circle_diameter=760):\n",
    "    # Load the image\n",
    "    img = Image.open(image_path)\n",
    "\n",
    "    # Step 1: Resize the image to 1152x1152, keeping the aspect ratio\n",
    "    img.thumbnail((canvas_size, canvas_size), Image.LANCZOS)\n",
    "\n",
    "    # Create a new image with a transparent background (1152x1152)\n",
    "    transparent_img = Image.new(\"RGBA\", (canvas_size, canvas_size), (255, 255, 255, 0))\n",
    "\n",
    "    # Calculate the center position to paste the thumbnail\n",
    "    paste_position = ((canvas_size - img.width) // 2, (canvas_size - img.height) // 2)\n",
    "\n",
    "    # Paste the resized image onto the transparent background\n",
    "    transparent_img.paste(img, paste_position)\n",
    "\n",
    "    # Step 2: Create a circular mask for the 760px diameter circle\n",
    "    mask_img = Image.new('L', (canvas_size, canvas_size), 0)\n",
    "    mask_draw = ImageDraw.Draw(mask_img)\n",
    "    mask_draw.ellipse([(canvas_size - circle_diameter) // 2, \n",
    "                       (canvas_size - circle_diameter) // 2, \n",
    "                       (canvas_size + circle_diameter) // 2, \n",
    "                       (canvas_size + circle_diameter) // 2], fill=255)\n",
    "\n",
    "    # Step 3: Apply the mask to the image to create a circular effect\n",
    "    final_img = Image.new(\"RGBA\", (canvas_size, canvas_size), (255, 255, 255, 0))\n",
    "    final_img.paste(transparent_img, (0, 0), mask_img)\n",
    "\n",
    "    # Step 4: Resize the final image to the circle's size (760x760)\n",
    "    final_circular_logo = final_img.resize((circle_diameter, circle_diameter), Image.LANCZOS)\n",
    "\n",
    "    # Save the final circular image\n",
    "    final_circular_logo.save(output_path)\n",
    "    print(f\"Image saved at: {output_path}\")\n",
    "\n",
    "# Example usage\n",
    "create_circular_logo('ReportCity_verde2.png', 'output_circular_logo.png')\n"
   ]
  },
  {
   "cell_type": "code",
   "execution_count": 5,
   "metadata": {},
   "outputs": [
    {
     "name": "stderr",
     "output_type": "stream",
     "text": [
      "C:\\Users\\vinip\\AppData\\Local\\Temp\\ipykernel_29916\\2660815082.py:8: DeprecationWarning: ANTIALIAS is deprecated and will be removed in Pillow 10 (2023-07-01). Use LANCZOS or Resampling.LANCZOS instead.\n",
      "  image.thumbnail((diameter, diameter), Image.ANTIALIAS)\n"
     ]
    }
   ],
   "source": [
    "from PIL import Image, ImageOps, ImageDraw\n",
    "\n",
    "# Carregar a imagem\n",
    "image = Image.open(\"ReportCity_verde2.png\")\n",
    "\n",
    "# Redimensionar a imagem para se ajustar ao diâmetro do círculo\n",
    "diameter = 760\n",
    "image.thumbnail((diameter, diameter), Image.ANTIALIAS)\n",
    "\n",
    "# Criar uma máscara circular do tamanho da imagem redimensionada\n",
    "mask = Image.new(\"L\", image.size, 0)\n",
    "draw = ImageDraw.Draw(mask)\n",
    "draw.ellipse((0, 0, image.size[0], image.size[1]), fill=255)\n",
    "\n",
    "# Criar uma nova imagem com fundo transparente (ou de uma cor específica)\n",
    "circle_image = Image.new(\"RGBA\", (diameter, diameter), (255, 255, 255, 0))\n",
    "\n",
    "# Colocar a imagem redimensionada no centro da imagem circular\n",
    "circle_image.paste(image, (int((diameter - image.size[0]) / 2), int((diameter - image.size[1]) / 2)), mask)\n",
    "\n",
    "# Salvar a imagem final\n",
    "circle_image.save(\"ReportCity_verde2_circular.png\")\n",
    "\n",
    "circle_image.show()  # Mostrar a imagem resultante\n"
   ]
  }
 ],
 "metadata": {
  "kernelspec": {
   "display_name": "Python 3",
   "language": "python",
   "name": "python3"
  },
  "language_info": {
   "codemirror_mode": {
    "name": "ipython",
    "version": 3
   },
   "file_extension": ".py",
   "mimetype": "text/x-python",
   "name": "python",
   "nbconvert_exporter": "python",
   "pygments_lexer": "ipython3",
   "version": "3.10.8"
  }
 },
 "nbformat": 4,
 "nbformat_minor": 2
}
